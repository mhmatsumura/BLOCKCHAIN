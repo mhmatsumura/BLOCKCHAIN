{
 "cells": [
  {
   "cell_type": "markdown",
   "id": "d1ef330c-ec49-455b-8abd-0c1e138c72a8",
   "metadata": {},
   "source": [
    "# CRIAÇÃO DA WALLET LOCAL A PARTIR DO MENEUMONICO"
   ]
  },
  {
   "cell_type": "code",
   "execution_count": 1,
   "id": "14474a58-ae93-433e-9361-4f09fe353d1a",
   "metadata": {},
   "outputs": [
    {
     "data": {
      "text/plain": [
       "1"
      ]
     },
     "execution_count": 1,
     "metadata": {},
     "output_type": "execute_result"
    }
   ],
   "source": [
    "#DELETA A WALLET\n",
    "\n",
    "from bitcoinlib.wallets import wallet_delete\n",
    "# wallet_delete(minha_wallet_local.name) #deleta a wallet\n",
    "# wallet_delete(\"MINHA_WALLET_LOCAL\", force=True) #deleta a wallet"
   ]
  },
  {
   "cell_type": "code",
   "execution_count": 2,
   "id": "486bb31f-98e7-43cb-81b0-4c0b3717831c",
   "metadata": {},
   "outputs": [],
   "source": [
    "from bitcoinlib.wallets import Wallet\n",
    "\n",
    "# carregando uma wallet local existente a partir do seu nome\n",
    "# minha_wallet_local = Wallet(\"MINHA_WALLET_LOCAL\")\n",
    "\n",
    "#criando nova wallet a partir do meneumonico\n",
    "palavras_secretas = \"suas 12 ou 24 palavras\"\n",
    "minha_wallet_local = Wallet.create(\"MINHA_WALLET_LOCAL\", witness_type='segwit', keys=palavras_secretas, network='bitcoin')"
   ]
  },
  {
   "cell_type": "code",
   "execution_count": 33,
   "id": "ddfda3b7-df2d-4908-a10c-442aedcc9419",
   "metadata": {},
   "outputs": [],
   "source": [
    "minha_wallet_local.scan() # atualiza a wallet com todas as transações comunicando com o blockchain\n",
    "minha_wallet_local.info()"
   ]
  },
  {
   "cell_type": "code",
   "execution_count": 34,
   "id": "80707f53-a35d-42c6-8879-feeb272d35f7",
   "metadata": {},
   "outputs": [],
   "source": [
    "# imprime as utxos, outputs de transações não gastas\n",
    "\n",
    "# minha_wallet_local.utxos_update()\n",
    "minha_wallet_local.utxos()"
   ]
  },
  {
   "cell_type": "code",
   "execution_count": 35,
   "id": "4f3f2f13-e785-4b6e-8a2a-89593e73338c",
   "metadata": {},
   "outputs": [],
   "source": [
    "# IMPRIME SALDO DE BTC CONSULTANDO DIRETO NA BLOCKCHAIN ATRAVÉS DA WALLET LOCAL CRIADA\n",
    "\n",
    "minha_wallet_local.balance_update_from_serviceprovider()\n",
    "minha_wallet_local.balance()/100000000"
   ]
  },
  {
   "cell_type": "code",
   "execution_count": 36,
   "id": "95871831-00bc-4951-8483-28acbcdacc68",
   "metadata": {},
   "outputs": [],
   "source": [
    "valor_a_sacar = 0.0001 # quantidade de btc a sacar \n",
    "endereco_destinatario = 'seu endereco de deposito na exchange' #bitcoin binance pela rede BTC\n",
    "\n",
    "transacao = minha_wallet_local.send_to(endereco_destinatario, valor_a_sacar * 100000000, offline = True) # transacao foi criada mas nao enviada\n",
    "transacao.info()"
   ]
  },
  {
   "cell_type": "code",
   "execution_count": 37,
   "id": "40f63355-234e-4032-a8e5-6085d0ef2395",
   "metadata": {},
   "outputs": [],
   "source": [
    "# TRANSACAO SERA ENVIADA PARA O BLOCKCHAIN CUIDADO!!!\n",
    "\n",
    "# transacao.send(offline=False) #TRANSACAO SERA ENVIADA PARA O BLOCKCHAIN CUIDADO!!!\n",
    "# transacao.info()"
   ]
  },
  {
   "cell_type": "code",
   "execution_count": 38,
   "id": "7ac2f9a6-bcb0-4f47-a030-1d2d35ba5441",
   "metadata": {},
   "outputs": [],
   "source": [
    "# Atualiza status da transação\n",
    "minha_wallet_local.transactions_update()\n",
    "transacao.info()"
   ]
  },
  {
   "cell_type": "code",
   "execution_count": 39,
   "id": "43a0ec97-360b-4ab8-a906-a3d08b665a61",
   "metadata": {},
   "outputs": [],
   "source": [
    "from bitcoinlib.wallets import WalletTransaction\n",
    "# carregar transacao manualmente\n",
    "id_transacao = '5ghj6604beb42bdd11b2e9ef0g8g8g8g89395a182ac3ee5b6884acea3eg6g5g4'\n",
    "\n",
    "\n",
    "# minha_wallet_local.transactions_update_by_txids(id_transacao)\n",
    "minha_wallet_local.transactions_update()\n",
    "transacao = WalletTransaction.from_txid(minha_wallet_local, id_transacao)\n",
    "transacao.info()"
   ]
  },
  {
   "cell_type": "code",
   "execution_count": null,
   "id": "1a265962-4148-4e82-8931-b9d0bbd7694a",
   "metadata": {},
   "outputs": [],
   "source": [
    "# from bitcoinlib.wallets import WalletTransaction\n",
    "\n",
    "# primeiro_endereco = minha_wallet_local.addresslist()[0]\n",
    "# ultima_transacao = minha_wallet_local.transaction_last(primeiro_endereco)\n",
    "\n",
    "# transacao = WalletTransaction.from_txid(minha_wallet_local, ultima_transacao)\n",
    "# transacao.info()\n",
    "\n",
    "# print(minha_wallet_local.addresslist())\n",
    "\n",
    "# novo_endereco_apos_transacao = transacao.outputs[1].address\n",
    "# novo_endereco_apos_transacao"
   ]
  },
  {
   "cell_type": "markdown",
   "id": "858ae1b4-a90c-4fb0-a194-048acdb727fd",
   "metadata": {},
   "source": [
    "# OUTRA FORMA DE VER O SALDO EM UM BITCOIN ADDRESS\n",
    "##### Demora mais para atualizar transações recentes"
   ]
  },
  {
   "cell_type": "code",
   "execution_count": 41,
   "id": "8f8a89fa-8580-442c-8120-6dbb5ce228dd",
   "metadata": {},
   "outputs": [],
   "source": [
    "import requests\n",
    "\n",
    "# Replace 'YOUR_BITCOIN_ADDRESS' with your Bitcoin address\n",
    "# bitcoin_address = 'YOUR_BITCOIN_ADDRESS'\n",
    "\n",
    "# Define the Blockstream API URL\n",
    "url = f'https://blockstream.info/api/address/{bitcoin_address}'\n",
    "\n",
    "try:\n",
    "    response = requests.get(url)\n",
    "    data = response.json()\n",
    "    \n",
    "    balance_btc = data['chain_stats']['funded_txo_sum'] / 100000000\n",
    "\n",
    "    print(f'Bitcoin Address: {bitcoin_address}')\n",
    "    print(f'Balance in BTC: {balance_btc}')\n",
    "except requests.exceptions.RequestException as e:\n",
    "    print(f'Error: {e}')\n",
    "except KeyError:\n",
    "    print('Error: Could not retrieve balance information.')"
   ]
  },
  {
   "cell_type": "markdown",
   "id": "9a1eaa82-ed1a-4795-8bb8-20bd55bfd072",
   "metadata": {},
   "source": [
    "# UMA FORMA DE CONVERTER OS MENUMONICOS EM ADDRESS E PRIVATE KEY\n",
    "#### Não foi necessário para efetuar o saque de btc pois a wallet criada pelo bitcoinlib já possui essas informações"
   ]
  },
  {
   "cell_type": "code",
   "execution_count": 40,
   "id": "8b8f8530-77ad-485c-a4b0-b5011a4f8b35",
   "metadata": {},
   "outputs": [],
   "source": [
    "from bitcoinlib.keys import HDKey\n",
    "from bitcoinlib.wallets import Wallet\n",
    "\n",
    "# NETWORK = 'testnet'\n",
    "NETWORK = 'bitcoin'\n",
    "\n",
    "hdkey = HDKey.from_passphrase(palavras_secretas, witness_type='segwit',  network=NETWORK).subkey_for_path(f\"m/84'/0'/0'/0/0\")\n",
    "\n",
    "address = hdkey.address()\n",
    "print(address)\n",
    "\n",
    "# print(\"\\nPrivate_hex: \\n%s\" % hdkey.private_hex)\n",
    "# print(\"\\nPrivate key: \\n%s\" % hdkey.wif_private())\n",
    "# print(\"\\nPublic key: \\n%s\" % hdkey.wif_public())\n",
    "# print(\"\\nPublic account key to share with other cosigners for a multisig BIP45 wallet: \\n%s\" % public_account_wif.wif())"
   ]
  }
 ],
 "metadata": {
  "kernelspec": {
   "display_name": "Python 3 (ipykernel)",
   "language": "python",
   "name": "python3"
  },
  "language_info": {
   "codemirror_mode": {
    "name": "ipython",
    "version": 3
   },
   "file_extension": ".py",
   "mimetype": "text/x-python",
   "name": "python",
   "nbconvert_exporter": "python",
   "pygments_lexer": "ipython3",
   "version": "3.10.12"
  }
 },
 "nbformat": 4,
 "nbformat_minor": 5
}
